{
 "cells": [
  {
   "cell_type": "markdown",
   "id": "07dcf1cc",
   "metadata": {},
   "source": [
    "### Exercise 1: Create a Jupyter Notebook"
   ]
  },
  {
   "cell_type": "markdown",
   "id": "8539629a",
   "metadata": {},
   "source": [
    "### Exercise 2: Create markdown cell with title of the notebook"
   ]
  },
  {
   "cell_type": "markdown",
   "id": "e9a27f79",
   "metadata": {},
   "source": [
    "# H1: Data Science and Ecosystem"
   ]
  },
  {
   "cell_type": "markdown",
   "id": "e1e10fd8",
   "metadata": {},
   "source": [
    "### Exercise 3 - Create a markdown cell for an introduction"
   ]
  },
  {
   "cell_type": "markdown",
   "id": "351ce44c",
   "metadata": {},
   "source": [
    "In this notebook, Data Science Tools and Ecosystem are summarized."
   ]
  },
  {
   "cell_type": "markdown",
   "id": "7f09d7cd",
   "metadata": {},
   "source": [
    "### Exercise 10 - Insert a markdown cell to list Objectives\n"
   ]
  },
  {
   "cell_type": "markdown",
   "id": "9bf07265",
   "metadata": {},
   "source": [
    "### Objectives:\n",
    "- List popular languages for Data Science.\n",
    "- List popular libraries for Data Science.\n",
    "- List tools used for Data Science.\n",
    "- Learn Arithmentic expression.\n",
    "- Create table using markdown cell.\n",
    "- Convert minutes into hours."
   ]
  },
  {
   "cell_type": "markdown",
   "id": "552bca1e",
   "metadata": {},
   "source": [
    "### Exercise 4 - Create a markdown cell to list data science languages"
   ]
  },
  {
   "cell_type": "markdown",
   "id": "4ec49079",
   "metadata": {},
   "source": [
    "### Some of the popular languages that Data Scientists use are:\n",
    "    1. Python\n",
    "    2. Ruby\n",
    "    3. Scala\n",
    "    4. Go"
   ]
  },
  {
   "cell_type": "markdown",
   "id": "18b0f1ca",
   "metadata": {},
   "source": [
    "### Exercise 5 - Create a markdown cell to list data science libraries"
   ]
  },
  {
   "cell_type": "markdown",
   "id": "bd966f12",
   "metadata": {},
   "source": [
    "### Some of the commonly used libraries used by Data Scientists include:\n",
    "1. Numpy\n",
    "2. Pandas\n",
    "3. Matplotlib\n",
    "4. seaborn"
   ]
  },
  {
   "cell_type": "markdown",
   "id": "2d51a06b",
   "metadata": {},
   "source": [
    "### Exercise 6 - Create a markdown cell with a table of Data Science tools"
   ]
  },
  {
   "cell_type": "markdown",
   "id": "51839fa3",
   "metadata": {},
   "source": [
    "### Table\n",
    "| Data Science Tools |\n",
    "|--------------------|\n",
    "|Jupyter Notebook |\n",
    "| Jupyterlite |\n",
    "| Watson Studio |\n",
    "| Tensorflow |\n"
   ]
  },
  {
   "cell_type": "markdown",
   "id": "0c3a1031",
   "metadata": {},
   "source": [
    "### Exercise 7 - Create a markdown cell introducing arithmetic expression examples"
   ]
  },
  {
   "cell_type": "markdown",
   "id": "ae1884d2",
   "metadata": {},
   "source": [
    "### Below are a few examples of evaluating arithmetic expressions in Python"
   ]
  },
  {
   "cell_type": "code",
   "execution_count": 6,
   "id": "233a5afe",
   "metadata": {},
   "outputs": [
    {
     "name": "stdout",
     "output_type": "stream",
     "text": [
      "30\n",
      "200\n",
      "100.0\n",
      "25\n"
     ]
    }
   ],
   "source": [
    "a = 10 + 20\n",
    "b = 10 * 20\n",
    "c = 1000/10\n",
    "d = 100 - 75\n",
    "print(a)\n",
    "print(b)\n",
    "print(c)\n",
    "print(d)\n"
   ]
  },
  {
   "cell_type": "markdown",
   "id": "694af265",
   "metadata": {},
   "source": [
    "### Exercise 8 - Create a code cell to multiply and add numbers"
   ]
  },
  {
   "cell_type": "code",
   "execution_count": 7,
   "id": "87cacaa5",
   "metadata": {},
   "outputs": [
    {
     "data": {
      "text/plain": [
       "17"
      ]
     },
     "execution_count": 7,
     "metadata": {},
     "output_type": "execute_result"
    }
   ],
   "source": [
    "#This a simple arithmetic expression to mutiply then add integers.\n",
    "(3*4)+5"
   ]
  },
  {
   "cell_type": "markdown",
   "id": "a66dd0ed",
   "metadata": {},
   "source": [
    "### Exercise 9 - Create a code cell to convert minutes to hours"
   ]
  },
  {
   "cell_type": "code",
   "execution_count": 8,
   "id": "0be8c3af",
   "metadata": {},
   "outputs": [
    {
     "data": {
      "text/plain": [
       "3.3333333333333335"
      ]
     },
     "execution_count": 8,
     "metadata": {},
     "output_type": "execute_result"
    }
   ],
   "source": [
    "#This will convert 200 minutes to hours by diving by 60.\n",
    "hours = 200/60\n",
    "hours"
   ]
  },
  {
   "cell_type": "markdown",
   "id": "1473b704",
   "metadata": {},
   "source": [
    "### Exercise 11 - Create a markdown cell to indicate the Author's name"
   ]
  },
  {
   "cell_type": "markdown",
   "id": "3b8e3b73",
   "metadata": {},
   "source": [
    "## Author"
   ]
  },
  {
   "cell_type": "markdown",
   "id": "5bca266d",
   "metadata": {},
   "source": [
    "Jyoti Rajendra Sabane\n"
   ]
  },
  {
   "cell_type": "code",
   "execution_count": null,
   "id": "b3dd9573",
   "metadata": {},
   "outputs": [],
   "source": []
  }
 ],
 "metadata": {
  "kernelspec": {
   "display_name": "Python 3 (ipykernel)",
   "language": "python",
   "name": "python3"
  },
  "language_info": {
   "codemirror_mode": {
    "name": "ipython",
    "version": 3
   },
   "file_extension": ".py",
   "mimetype": "text/x-python",
   "name": "python",
   "nbconvert_exporter": "python",
   "pygments_lexer": "ipython3",
   "version": "3.11.2"
  }
 },
 "nbformat": 4,
 "nbformat_minor": 5
}
